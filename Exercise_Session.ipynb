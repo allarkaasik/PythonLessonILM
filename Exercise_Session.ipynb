{
 "cells": [
  {
   "cell_type": "markdown",
   "metadata": {},
   "source": [
    "***\n",
    "# Python Lesson ILM & Escape Studios\n",
    "#### [Allar Kaasik](https://www.pearsoncollegelondon.ac.uk/escape-studios/meet-your-tutors/allar-kaasik.html) - Senior VFX Tutor.\n",
    "##### Based on code samples by Andrew Whitehurst\n"
   ]
  },
  {
   "cell_type": "markdown",
   "metadata": {},
   "source": [
    "\n",
    "***\n",
    "## Compositing exerise"
   ]
  },
  {
   "cell_type": "markdown",
   "metadata": {},
   "source": [
    "#### Getting Started\n",
    " - Click or double click on a block of code (or text or image, any block) to activate it for editing\n",
    " - Then press the \"Run\" ▶ button above to \"run\" that block\n",
    " - For example edit the phrase `print(\"Hello World\")` in the next block to say `print(\"Hello Blairgowrie\")`\n",
    " - When you run ▶ the block it will output `Hello Blairgowrie` below the block"
   ]
  },
  {
   "cell_type": "code",
   "execution_count": 1,
   "metadata": {},
   "outputs": [
    {
     "name": "stdout",
     "output_type": "stream",
     "text": [
      "Hello World\n"
     ]
    }
   ],
   "source": [
    "print(\"Hello World\")"
   ]
  },
  {
   "cell_type": "markdown",
   "metadata": {},
   "source": [
    "***\n",
    "## Let's read in the required libraries first"
   ]
  },
  {
   "cell_type": "code",
   "execution_count": 2,
   "metadata": {},
   "outputs": [],
   "source": [
    "from PIL import Image                     # Lets us import images\n",
    "from matplotlib.pyplot import imshow      # Lets us display images\n",
    "import numpy as np                        # Lets us operate on images"
   ]
  },
  {
   "cell_type": "markdown",
   "metadata": {},
   "source": [
    "***\n",
    "## A quick reminder of the Over function\n",
    "We'll leave defining the function for just a bit later to go through the steps of the Over operation first\n",
    "1. **Multiply the matte and FG** together to remove undesired parts of the FG image\n",
    "2. **Invert your matte**\n",
    "3. Use the **inverted matte and multiply it with the BG** to make a hole in it\n",
    "4. **Add** the \"**premultiplied FG**\" together with the \"**premultiplied BG**\""
   ]
  },
  {
   "cell_type": "markdown",
   "metadata": {},
   "source": [
    "***\n",
    "## Let's define the functions we need"
   ]
  },
  {
   "cell_type": "markdown",
   "metadata": {},
   "source": [
    "Inverting images (per pixel and per channel): `1 - img`"
   ]
  },
  {
   "cell_type": "code",
   "execution_count": 3,
   "metadata": {},
   "outputs": [],
   "source": [
    "def imgInvert(input_image,x,y):\n",
    "    out = Image.new('RGB', (x, y))\n",
    "    for xPos in range(x):\n",
    "        for yPos in range(y):\n",
    "            fPxlr, fPxlg, fPxlb = input_image.getpixel((xPos,yPos))\n",
    "            rOutF = 1 - (float(fPxlr)/256)\n",
    "            gOutF = 1 - (float(fPxlg)/256)\n",
    "            bOutF = 1 - (float(fPxlb)/256)\n",
    "            rOutI = int(rOutF*256)\n",
    "            gOutI = int(gOutF*256)\n",
    "            bOutI = int(bOutF*256)\n",
    "            out.putpixel((xPos, yPos), (rOutI, gOutI, bOutI))\n",
    "    return out"
   ]
  },
  {
   "cell_type": "markdown",
   "metadata": {},
   "source": [
    "Adding images (per pixel and per channel): `img_1 + img_2`"
   ]
  },
  {
   "cell_type": "code",
   "execution_count": 4,
   "metadata": {},
   "outputs": [],
   "source": [
    "def compAdd(front,back,x,y):\n",
    "    out = Image.new('RGB', (x, y))\n",
    "    for xPos in range(x):\n",
    "        for yPos in range(y):\n",
    "            fPxlr, fPxlg, fPxlb = front.getpixel((xPos,yPos))\n",
    "            bPxlr, bPxlg, bPxlb = back.getpixel((xPos,yPos))\n",
    "            rOutF = (float(fPxlr)/256) + (float(bPxlr)/256)\n",
    "            gOutF = (float(fPxlg)/256) + (float(bPxlg)/256)\n",
    "            bOutF = (float(fPxlb)/256) + (float(bPxlb)/256)\n",
    "            rOutI = int(rOutF*256)\n",
    "            gOutI = int(gOutF*256)\n",
    "            bOutI = int(bOutF*256)\n",
    "            out.putpixel((xPos, yPos), (rOutI, gOutI, bOutI))\n",
    "    return out  ### Credit for these comp functions goes to Andrew Whitehurst"
   ]
  },
  {
   "cell_type": "markdown",
   "metadata": {},
   "source": [
    "Multiplying images (per pixel and per channel): `img_1 * img_2`"
   ]
  },
  {
   "cell_type": "code",
   "execution_count": 5,
   "metadata": {},
   "outputs": [],
   "source": [
    "def compMult(front,back,x,y):\n",
    "    out = Image.new('RGB', (x, y))\n",
    "    for xPos in range(x):\n",
    "        for yPos in range(y):\n",
    "            fPxlr, fPxlg, fPxlb = front.getpixel((xPos,yPos))\n",
    "            bPxlr, bPxlg, bPxlb = back.getpixel((xPos,yPos))\n",
    "            rOutF = (float(fPxlr)/256) * (float(bPxlr)/256)\n",
    "            gOutF = (float(fPxlg)/256) * (float(bPxlg)/256)\n",
    "            bOutF = (float(fPxlb)/256) * (float(bPxlb)/256)\n",
    "            rOutI = int(rOutF*256)\n",
    "            gOutI = int(gOutF*256)\n",
    "            bOutI = int(bOutF*256)\n",
    "            out.putpixel((xPos, yPos), (rOutI, gOutI, bOutI))\n",
    "    return out"
   ]
  },
  {
   "cell_type": "markdown",
   "metadata": {},
   "source": [
    "Compositing images (per pixel and per channel): `img_1 * matte + (1 - matte) * img_2`"
   ]
  },
  {
   "cell_type": "code",
   "execution_count": 6,
   "metadata": {},
   "outputs": [],
   "source": [
    "def compOver(front,back,matte,x,y):\n",
    "    out = Image.new('RGB', (x, y))\n",
    "    premult_FG = compMult(front, matte, x, y)\n",
    "    inverted_matte = imgInvert(matte,x,y)\n",
    "    premult_BG = compMult(back, inverted_matte, x, y)\n",
    "    out = compAdd(premult_FG, premult_BG, x, y)\n",
    "    return out"
   ]
  },
  {
   "cell_type": "code",
   "execution_count": 7,
   "metadata": {},
   "outputs": [],
   "source": [
    "def compOverFaster(front,back,matte,x,y):\n",
    "    out = back #out will be our output image. We set it to be the BG for now. Every pixel will be overwritten though, as the function runs\n",
    "    for xPos in range(x):\n",
    "        for yPos in range(y):#These two lines will iterate over every pixel in the image. The compositing algorithm will be run for every pixel to compute the final result\n",
    "\n",
    "            fPxlr, fPxlg, fPxlb = front.getpixel((xPos,yPos))#get the R, G, and B values for the FG image. These will be 8-bit integer values.\n",
    "            bPxlr, bPxlg, bPxlb = back.getpixel((xPos,yPos))#get the R, G, and B values for the BG image. These will be 8-bit integer values.\n",
    "            mPxlr, mPxlg, mPxlb = matte.getpixel((xPos,yPos))#get the R, G, and B values for the matte image. In truth since the matte is monochrome we only need one channel.  These will be 8-bit integer values.\n",
    "\n",
    "            #Next we compute (FG * MATTE) + (BG * inverse MATTE) which is Porter and Duff's over compositing algorithm. We need to convert the 8-bit values into normalised floating point values so the pixel values range from 0.0-1.0, rather than 0-255 as they do in an 8-bit image. The compositing maths only works if we do this conversion. We do this calulation for each channel: R, G, and B\n",
    "\n",
    "            rOutF = (float(fPxlr)/256) * (float(mPxlr)/256) + (float(bPxlr)/256) * (1-(float(mPxlr)/256))\n",
    "            gOutF = (float(fPxlg)/256) * (float(mPxlg)/256) + (float(bPxlg)/256) * (1-(float(mPxlg)/256))\n",
    "            bOutF = (float(fPxlb)/256) * (float(mPxlb)/256) + (float(bPxlb)/256) * (1-(float(mPxlb)/256))\n",
    "\n",
    "            #Because Pillow is expecting an 8-bit image output, we now convert our normalised floating point composite results back to 8-bit integer values \n",
    "\n",
    "            rOutI = int(rOutF*256)\n",
    "            gOutI = int(gOutF*256)\n",
    "            bOutI = int(bOutF*256)\n",
    "\n",
    "            #We now over-write the current pixel being worked on in our output image with our computed values\n",
    "\n",
    "            out.putpixel((xPos, yPos), (rOutI, gOutI, bOutI))\n",
    "\n",
    "    return out"
   ]
  },
  {
   "cell_type": "markdown",
   "metadata": {},
   "source": [
    "***\n",
    "## Read in the images\n",
    "Make sure to upload the file path from \"provided_images/...\" to \"uploaded_images/...\" to access your uploaded imagesBG = Image.open('provided_images/seekerBG.png')\n",
    "FG = Image.open('provided_images/seekerRobot.png')\n",
    "matte_image = Image.open('provided_images/seekerMatte.png')"
   ]
  },
  {
   "cell_type": "code",
   "execution_count": 8,
   "metadata": {},
   "outputs": [],
   "source": [
    "BG = Image.open('provided_images/seekerBG.png')\n",
    "FG = Image.open('provided_images/seekerRobot.png')\n",
    "matte_image = Image.open('provided_images/seekerMatte.png')"
   ]
  },
  {
   "cell_type": "markdown",
   "metadata": {},
   "source": [
    "(Optional:) You can then display them to veryify that you've got the right images (don't forget to uncomment the correct lines)"
   ]
  },
  {
   "cell_type": "code",
   "execution_count": 9,
   "metadata": {},
   "outputs": [],
   "source": [
    "%matplotlib inline\n",
    "#imshow(np.asarray(BG))"
   ]
  },
  {
   "cell_type": "code",
   "execution_count": 10,
   "metadata": {},
   "outputs": [],
   "source": [
    "%matplotlib inline\n",
    "#imshow(np.asarray(FG))"
   ]
  },
  {
   "cell_type": "code",
   "execution_count": 11,
   "metadata": {},
   "outputs": [],
   "source": [
    "%matplotlib inline\n",
    "#imshow(np.asarray(matte_image))"
   ]
  },
  {
   "cell_type": "markdown",
   "metadata": {},
   "source": [
    "***\n",
    "## Set the image bounds and size\n",
    "All the images need to be the same size for our operations to work. We're resizing to HD 1920x1080 for simplicity using the `PIL.Image.resize((size))` function. Note that if your original image had a different aspect ratio, then it will squeeze the result. Also note that there are two set's of brackets in `.resize((size))` because `size` is a tuple of two values."
   ]
  },
  {
   "cell_type": "code",
   "execution_count": 12,
   "metadata": {},
   "outputs": [],
   "source": [
    "width = 1920\n",
    "height = 1080"
   ]
  },
  {
   "cell_type": "code",
   "execution_count": 13,
   "metadata": {},
   "outputs": [],
   "source": [
    "BG_resized = BG.resize((width,height))\n",
    "FG_resized = FG.resize((width,height))\n",
    "matte_resized = matte_image.resize((width,height))"
   ]
  },
  {
   "cell_type": "markdown",
   "metadata": {},
   "source": [
    "(Optional:) You can then display them to veryify that you've got the right images (don't forget to uncomment the correct lines)"
   ]
  },
  {
   "cell_type": "code",
   "execution_count": 14,
   "metadata": {},
   "outputs": [],
   "source": [
    "%matplotlib inline\n",
    "#imshow(np.asarray(BG_resized))"
   ]
  },
  {
   "cell_type": "code",
   "execution_count": 15,
   "metadata": {},
   "outputs": [],
   "source": [
    "%matplotlib inline\n",
    "#imshow(np.asarray(FG_resized))"
   ]
  },
  {
   "cell_type": "code",
   "execution_count": 16,
   "metadata": {},
   "outputs": [],
   "source": [
    "%matplotlib inline\n",
    "#imshow(np.asarray(matte_resized))"
   ]
  },
  {
   "cell_type": "markdown",
   "metadata": {},
   "source": [
    "***\n",
    "## The Over operation, step-by-step"
   ]
  },
  {
   "cell_type": "markdown",
   "metadata": {},
   "source": [
    "#### Multiply the matte and the FG"
   ]
  },
  {
   "cell_type": "code",
   "execution_count": 17,
   "metadata": {},
   "outputs": [],
   "source": [
    "premult_FG = compMult(FG_resized, matte_resized, width, height)"
   ]
  },
  {
   "cell_type": "code",
   "execution_count": 18,
   "metadata": {},
   "outputs": [],
   "source": [
    "%matplotlib inline\n",
    "#imshow(np.asarray(premult_FG))"
   ]
  },
  {
   "cell_type": "markdown",
   "metadata": {},
   "source": [
    "In order to save your image you can use the `Image.save(\"filepath/filename\")` function from the PIL library. To keep things tidy, output them to the \"output\" folder"
   ]
  },
  {
   "cell_type": "code",
   "execution_count": 19,
   "metadata": {},
   "outputs": [],
   "source": [
    "#premult_FG.save('output/premult_FG_out.png')"
   ]
  },
  {
   "cell_type": "markdown",
   "metadata": {},
   "source": [
    "#### Invert the matte"
   ]
  },
  {
   "cell_type": "code",
   "execution_count": 20,
   "metadata": {},
   "outputs": [],
   "source": [
    "inverted_matte = imgInvert(matte_resized,width,height)"
   ]
  },
  {
   "cell_type": "code",
   "execution_count": 21,
   "metadata": {},
   "outputs": [],
   "source": [
    "%matplotlib inline\n",
    "#imshow(np.asarray(inverted_matte))"
   ]
  },
  {
   "cell_type": "code",
   "execution_count": 22,
   "metadata": {},
   "outputs": [],
   "source": [
    "#inverted_matte.save('output/inverted_matte_out.png')"
   ]
  },
  {
   "cell_type": "markdown",
   "metadata": {},
   "source": [
    "#### Multiply the inverted matte and the BG"
   ]
  },
  {
   "cell_type": "code",
   "execution_count": 23,
   "metadata": {},
   "outputs": [],
   "source": [
    "premult_BG = compMult(BG_resized, inverted_matte, width, height)"
   ]
  },
  {
   "cell_type": "code",
   "execution_count": 24,
   "metadata": {},
   "outputs": [],
   "source": [
    "%matplotlib inline\n",
    "#imshow(np.asarray(premult_BG))"
   ]
  },
  {
   "cell_type": "code",
   "execution_count": 25,
   "metadata": {},
   "outputs": [],
   "source": [
    "#premult_BG.save('output/premult_BG_out.png')"
   ]
  },
  {
   "cell_type": "markdown",
   "metadata": {},
   "source": [
    "#### Add the \"premultiplied FG\" and \"premultiplied BG\""
   ]
  },
  {
   "cell_type": "code",
   "execution_count": 26,
   "metadata": {},
   "outputs": [],
   "source": [
    "out = compAdd(premult_FG, premult_BG, width, height)"
   ]
  },
  {
   "cell_type": "code",
   "execution_count": 27,
   "metadata": {},
   "outputs": [],
   "source": [
    "%matplotlib inline\n",
    "#imshow(np.asarray(out))"
   ]
  },
  {
   "cell_type": "code",
   "execution_count": 28,
   "metadata": {},
   "outputs": [],
   "source": [
    "#out.save('output/comp_out.png')"
   ]
  },
  {
   "cell_type": "markdown",
   "metadata": {},
   "source": [
    "***\n",
    "# Over operation - without separating the steps\n",
    "If you don't need to save the intermediate steps, but just want to comp two images using matte you can use the `compOverFaster()` function. (The PIL library actually comes with it's own PIL.Image.composite() function as well, but we wanted to keep the code completely visible to you)"
   ]
  },
  {
   "cell_type": "code",
   "execution_count": 29,
   "metadata": {},
   "outputs": [],
   "source": [
    "BG = Image.open('provided_images/seekerBG.png')\n",
    "FG = Image.open('provided_images/seekerRobot.png')\n",
    "matte_image = Image.open('provided_images/seekerMatte.png')"
   ]
  },
  {
   "cell_type": "code",
   "execution_count": 30,
   "metadata": {},
   "outputs": [],
   "source": [
    "width = 1920\n",
    "height = 1080"
   ]
  },
  {
   "cell_type": "code",
   "execution_count": 31,
   "metadata": {},
   "outputs": [],
   "source": [
    "BG_resized = BG.resize((width,height))\n",
    "FG_resized = FG.resize((width,height))\n",
    "matte_resized = matte_image.resize((width,height))"
   ]
  },
  {
   "cell_type": "code",
   "execution_count": 32,
   "metadata": {},
   "outputs": [],
   "source": [
    "straight_out = compOverFaster(FG, BG, matte_image ,  width, height)"
   ]
  },
  {
   "cell_type": "code",
   "execution_count": 35,
   "metadata": {},
   "outputs": [],
   "source": [
    "%matplotlib inline\n",
    "#imshow(np.asarray(straight_out))"
   ]
  },
  {
   "cell_type": "code",
   "execution_count": 34,
   "metadata": {},
   "outputs": [],
   "source": [
    "#out.save('output/straight_comp_out.png')"
   ]
  }
 ],
 "metadata": {
  "kernelspec": {
   "display_name": "Python 3",
   "language": "python",
   "name": "python3"
  },
  "language_info": {
   "codemirror_mode": {
    "name": "ipython",
    "version": 3
   },
   "file_extension": ".py",
   "mimetype": "text/x-python",
   "name": "python",
   "nbconvert_exporter": "python",
   "pygments_lexer": "ipython3",
   "version": "3.8.5"
  }
 },
 "nbformat": 4,
 "nbformat_minor": 4
}
