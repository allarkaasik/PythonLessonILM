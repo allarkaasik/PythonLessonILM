{
 "cells": [
  {
   "cell_type": "markdown",
   "metadata": {},
   "source": [
    "***\n",
    "# Python Lesson ILM\n",
    "## Getting Started\n",
    " - Click or double click on a block of code (or text or image, any block) to activate it for editing\n",
    " - Then press the \"Run\" ▶ button above to \"run\" that block\n",
    " - For example edit the phrase `print(\"Hello World\")` in the next block to say `print(\"Hello Blairgowrie\")`\n",
    " - When you run ▶ the block it will output `Hello Blairgowrie` below the block"
   ]
  },
  {
   "cell_type": "code",
   "execution_count": null,
   "metadata": {},
   "outputs": [],
   "source": [
    "print(\"Hello World\")"
   ]
  },
  {
   "cell_type": "markdown",
   "metadata": {},
   "source": [
    "***\n",
    "# About Python\n",
    "\n",
    "Python was created in the early 1990s by Guido van Rossum at Stichting Mathematisch Centrum in the Netherlands as a successor of a language called ABC. Guido remains Python’s principal author, although it includes many contributions from others. (https://docs.python.org/3/license.html)\n",
    "\n",
    "## Why Python for VFX? \n",
    "\"In the very first instance, it's very flexible. It can be run as a simple standalone script, or as a module as a part of a bigger library of software tools. It caters to object orientated programming designs, but it doesn't have to. The syntax is clean, and while people don't like the fact it's not strongly typed, it's very accessible to new users. It runs across Mac, Windows and Unix platforms, so it's everywhere you need it to be. It also has means of being bound to C and C++ code sources, so high performance graphic functionality can be utilised via python. It's quick to prototype with it and its remarkably well supported. Lots of reasons. Here are the current VFX reasons...\n",
    "\n",
    "The main VFX players, Maya, Nuke, Mari, Houdini, Shotgun and, I'm willing to bet, Katana all have well integrated python interpreters built into them, as well as having extensive python APIs to allow a developer to extend the application's feature set. This is now standard. You can construct a nuke script entirely from python. Build a scene and load rigs in maya, set up your SOPs and ROPs in Houdini.\" (https://www.quora.com/Is-it-a-real-plus-to-learn-Python-in-the-VFX-industry-What-good-formation-would-you-recomand-E-learning-or-tutorials)\n",
    "\n",
    "## VFX Reference Platform\n",
    "\"The Visual Effects Society (VES), the industry’s professional honorary society, has announced the release of the industry standard VFX Reference Platform. The VFX Reference Platform is a set of tools and library versions to be used as a common target platform for building software for the VFX industry. Its purpose is to minimize incompatibilities between different software packages, ease the support burden for Linux-based pipelines and encourage further adoption of Linux by software vendors.\"\n",
    "https://soundandpicture.com/0201/07/visual-effects-society-releases-first-kind-vfx-reference-platform/\n",
    "\n",
    "## Why else is Python interesting?\n",
    "Python is the programming language of choice for **data science**. Here’s a brief history:\n",
    "\n",
    " - In 2016, it overtook R on Kaggle, the premier platform for data science competitions.\n",
    " - In 2017, it overtook R on KDNuggets’s annual poll of data scientists’ most used tools.\n",
    " - In 2018, 66% of data scientists reported using Python daily, making it the number one language for analytics professionals.\n",
    " \n",
    " https://www.dataquest.io/blog/how-to-learn-python-for-data-science-in-5-steps/\n",
    " ***\n"
   ]
  },
  {
   "cell_type": "markdown",
   "metadata": {},
   "source": [
    "# Python 101\n",
    "\n",
    "## Variables and Data Types\n",
    "**Variables** can store data of different types, and different types can do different things. https://www.w3schools.com/python/default.asp\n",
    "\n",
    "Python has the following data types built-in by default, in these categories:\n",
    "\n",
    " - Text Type: **str**\n",
    " - Numeric Types: **int, float**, complex\n",
    " - Sequence Types: **list**, tuple, range\n",
    " - Mapping Type: dict\n",
    " - Set Types: set, frozenset\n",
    " - Boolean Type: **bool**\n",
    " - Binary Types: bytes, bytearray, memoryview"
   ]
  },
  {
   "cell_type": "code",
   "execution_count": null,
   "metadata": {},
   "outputs": [],
   "source": [
    "# comments start with a hashtag #\n",
    "my_variable = \"cat\"\n",
    "#print(my_variable)"
   ]
  },
  {
   "cell_type": "code",
   "execution_count": null,
   "metadata": {},
   "outputs": [],
   "source": [
    "result = 7/2\n",
    "print(result)"
   ]
  },
  {
   "cell_type": "code",
   "execution_count": null,
   "metadata": {},
   "outputs": [],
   "source": [
    "var_a = \"squirrel \"\n",
    "var_b = 200\n",
    "result = var_a*var_b"
   ]
  },
  {
   "cell_type": "code",
   "execution_count": null,
   "metadata": {},
   "outputs": [],
   "source": [
    "a_list_of_animals = [\"horse\", \"sheep\", \"bear\", \"wolf\"]\n",
    "second_animal = a_list_of_animals[2]\n",
    "print(second_animal)"
   ]
  },
  {
   "cell_type": "markdown",
   "metadata": {},
   "source": [
    "## Iteration\n",
    "Iteration means doing things repeatedly. Python offers a **for** loop (a \"for-each\" type) iteration, which allows you to do something for every item in a collection."
   ]
  },
  {
   "cell_type": "code",
   "execution_count": null,
   "metadata": {},
   "outputs": [],
   "source": [
    "a_list_of_animals = [\"horse\", \"sheep\", \"bear\", \"wolf\"]\n",
    "for animal in a_list_of_animals:\n",
    "    print(animal)"
   ]
  },
  {
   "cell_type": "markdown",
   "metadata": {},
   "source": [
    "If you want to do something a certain number of times, but don't have a collection, Python allows you to generate a temporary list using the `range()` function"
   ]
  },
  {
   "cell_type": "code",
   "execution_count": null,
   "metadata": {},
   "outputs": [],
   "source": [
    "for x in range(3,7):\n",
    "    print(x)"
   ]
  },
  {
   "cell_type": "markdown",
   "metadata": {},
   "source": [
    "If you need to keep a count of the items you are iterating over, then you need create a variable outside the loop"
   ]
  },
  {
   "cell_type": "code",
   "execution_count": null,
   "metadata": {},
   "outputs": [],
   "source": [
    "counter = 0\n",
    "for animal in a_list_of_animals:\n",
    "    #print(counter + animal)\n",
    "    #print(str(counter) + \": \" + animal)\n",
    "    counter = counter + 1"
   ]
  },
  {
   "cell_type": "markdown",
   "metadata": {},
   "source": [
    "***\n",
    "## Selection\n",
    "\n",
    "Python supports the usual logical conditions from mathematics:\n",
    "\n",
    "- Equals: **a == b**\n",
    "- Not Equals: **a != b**\n",
    "- Less than: **a < b**\n",
    "- Less than or equal to: **a <= b**\n",
    "- Greater than: **a > b**\n",
    "- Greater than or equal to: **a >= b**\n",
    "These conditions can be used in several ways, most commonly in \"if statements\" and loops.\n",
    "\n",
    "An \"if statement\" is written by using the if keyword."
   ]
  },
  {
   "cell_type": "code",
   "execution_count": null,
   "metadata": {},
   "outputs": [],
   "source": [
    "temperature = 25\n",
    "if temperature >= 22:\n",
    "    print(\"Turn on the air-con, mate!\")\n",
    "elif temperature < 17:\n",
    "    print(\"Turn on the heater, mate!\")\n",
    "else:\n",
    "    print(\"The temperature is fine, mate!\")"
   ]
  },
  {
   "cell_type": "markdown",
   "metadata": {},
   "source": [
    "***\n",
    "## Functions\n",
    "Functions allow you to abstract code and to reuse it"
   ]
  },
  {
   "cell_type": "code",
   "execution_count": null,
   "metadata": {},
   "outputs": [],
   "source": [
    "def my_function():\n",
    "  print(\"Hello from a function\")"
   ]
  },
  {
   "cell_type": "code",
   "execution_count": null,
   "metadata": {},
   "outputs": [],
   "source": [
    "my_function()"
   ]
  },
  {
   "cell_type": "markdown",
   "metadata": {},
   "source": [
    "Functions can also take arguments to pass data into the function"
   ]
  },
  {
   "cell_type": "code",
   "execution_count": null,
   "metadata": {},
   "outputs": [],
   "source": [
    "def many_cats(how_many):\n",
    "    result = \"cats \" * how_many\n",
    "    print(result)"
   ]
  },
  {
   "cell_type": "code",
   "execution_count": null,
   "metadata": {},
   "outputs": [],
   "source": [
    "many_cats(10)"
   ]
  },
  {
   "cell_type": "markdown",
   "metadata": {},
   "source": [
    "***\n",
    "# Introduction to Image Processing"
   ]
  },
  {
   "cell_type": "markdown",
   "metadata": {},
   "source": [
    "***\n",
    "## Importing images\n",
    " The following block of code gives us the capability to:\n",
    " - Import images into memory\n",
    " - Perform custom operations on it\n",
    " - Display the result\n",
    " You need to run it first for the preceding code blocks to work. (i.e. press ⏵ above)"
   ]
  },
  {
   "cell_type": "code",
   "execution_count": null,
   "metadata": {},
   "outputs": [],
   "source": [
    "from PIL import Image                     # Lets us import images\n",
    "from matplotlib.pyplot import imshow      # Lets us display images\n",
    "import numpy as np                        # Lets us operate on images"
   ]
  },
  {
   "cell_type": "markdown",
   "metadata": {},
   "source": [
    "The next block loads the image that we want and stores it in the variable `pil_im`. We can choose another image, which is available on the server and point it towards that. For example, if you replace `'SEEKER.png'` with `'LostCity.png'`, we will load that into the memory instead"
   ]
  },
  {
   "cell_type": "code",
   "execution_count": null,
   "metadata": {},
   "outputs": [],
   "source": [
    "pil_im = Image.open('SEEKER.png')"
   ]
  },
  {
   "cell_type": "markdown",
   "metadata": {},
   "source": [
    "The next block displays the image that is stored in the variable.\n",
    " - Note that you if you update the block above to point it to a new file, you have to run the next block again to force it to display the new image.\n",
    " - A tip! If you want to run all the blocks at once (in the whole notebook), press the \"fast forward\" button ⏩ in the toolbar at the top."
   ]
  },
  {
   "cell_type": "code",
   "execution_count": null,
   "metadata": {},
   "outputs": [],
   "source": [
    "%matplotlib inline\n",
    "imshow(np.asarray(pil_im))"
   ]
  },
  {
   "cell_type": "markdown",
   "metadata": {},
   "source": [
    "***\n",
    "## Saving images\n",
    "In order to save your image you can use the `Image.save(\"filepath/filename\")` function from the PIL library"
   ]
  },
  {
   "cell_type": "code",
   "execution_count": null,
   "metadata": {},
   "outputs": [],
   "source": [
    "#pil_im.save('SEEKER_save.png')"
   ]
  },
  {
   "cell_type": "markdown",
   "metadata": {},
   "source": [
    "***\n",
    "## Image operations"
   ]
  },
  {
   "cell_type": "markdown",
   "metadata": {},
   "source": [
    "***\n",
    "### Invert\n",
    "The first image effect just needs one image. We represent the brightness as a floating-point value between 0 and 1 and to invert it we substract each pixel from 1. So, if a pixel was dark, e.g. `0.2`, then it will become bright `1 - 0.2 = 0.8`"
   ]
  },
  {
   "cell_type": "markdown",
   "metadata": {},
   "source": [
    "Let's open the image"
   ]
  },
  {
   "cell_type": "code",
   "execution_count": null,
   "metadata": {},
   "outputs": [],
   "source": [
    "FG = Image.open('LostCity.png')"
   ]
  },
  {
   "cell_type": "markdown",
   "metadata": {},
   "source": [
    "Then let's display it (optional but it's nice for comparing against later)"
   ]
  },
  {
   "cell_type": "code",
   "execution_count": null,
   "metadata": {},
   "outputs": [],
   "source": [
    "%matplotlib inline\n",
    "#imshow(np.asarray(FG))"
   ]
  },
  {
   "cell_type": "markdown",
   "metadata": {},
   "source": [
    "Then we define the `imgInvert()`function"
   ]
  },
  {
   "cell_type": "code",
   "execution_count": null,
   "metadata": {},
   "outputs": [],
   "source": [
    "def imgInvert(input_image,x,y):\n",
    "    out = Image.new('RGB', (x, y))\n",
    "    for xPos in range(x):\n",
    "        for yPos in range(y):\n",
    "            fPxlr, fPxlg, fPxlb = input_image.getpixel((xPos,yPos))\n",
    "            rOutF = 1 - (float(fPxlr)/256)\n",
    "            gOutF = 1 - (float(fPxlg)/256)\n",
    "            bOutF = 1 - (float(fPxlb)/256)\n",
    "            rOutI = int(rOutF*256)\n",
    "            gOutI = int(gOutF*256)\n",
    "            bOutI = int(bOutF*256)\n",
    "            out.putpixel((xPos, yPos), (rOutI, gOutI, bOutI))\n",
    "    return out"
   ]
  },
  {
   "cell_type": "markdown",
   "metadata": {},
   "source": [
    "Then we call the `imgInvert()` function on our picture."
   ]
  },
  {
   "cell_type": "code",
   "execution_count": null,
   "metadata": {},
   "outputs": [],
   "source": [
    "width = 1920\n",
    "height = 1080\n",
    "out = imgInvert(FG,width,height)"
   ]
  },
  {
   "cell_type": "markdown",
   "metadata": {},
   "source": [
    "And then lets display the original and the result"
   ]
  },
  {
   "cell_type": "code",
   "execution_count": null,
   "metadata": {},
   "outputs": [],
   "source": [
    "%matplotlib inline\n",
    "imshow(np.asarray(out))"
   ]
  },
  {
   "cell_type": "markdown",
   "metadata": {},
   "source": [
    "***\n",
    "### Add\n",
    "\n",
    "The simplest operation between **two** images is to take the values of each corresponding pixel and to add them together. Bigger numbers mean brighter pictures, so you can expect that adding two pictures would make one brighter result."
   ]
  },
  {
   "cell_type": "markdown",
   "metadata": {},
   "source": [
    "First we open two images:"
   ]
  },
  {
   "cell_type": "code",
   "execution_count": null,
   "metadata": {},
   "outputs": [],
   "source": [
    "BG = Image.open('SEEKER.png')\n",
    "FG = Image.open('LostCity.png')"
   ]
  },
  {
   "cell_type": "markdown",
   "metadata": {},
   "source": [
    "Then we define the Add operation as a function"
   ]
  },
  {
   "cell_type": "code",
   "execution_count": null,
   "metadata": {},
   "outputs": [],
   "source": [
    "def compAdd(front,back,x,y):\n",
    "    out = Image.new('RGB', (x, y))\n",
    "    for xPos in range(x):\n",
    "        for yPos in range(y):\n",
    "            fPxlr, fPxlg, fPxlb = front.getpixel((xPos,yPos))\n",
    "            bPxlr, bPxlg, bPxlb = back.getpixel((xPos,yPos))\n",
    "            rOutF = (float(fPxlr)/256) + (float(bPxlr)/256)\n",
    "            gOutF = (float(fPxlg)/256) + (float(bPxlg)/256)\n",
    "            bOutF = (float(fPxlb)/256) + (float(bPxlb)/256)\n",
    "            rOutI = int(rOutF*256)\n",
    "            gOutI = int(gOutF*256)\n",
    "            bOutI = int(bOutF*256)\n",
    "            out.putpixel((xPos, yPos), (rOutI, gOutI, bOutI))\n",
    "    return out  ### Credit for these comp functions goes to Andrew Whitehurst"
   ]
  },
  {
   "cell_type": "markdown",
   "metadata": {},
   "source": [
    "Then we apply that function to every pixel in the image."
   ]
  },
  {
   "cell_type": "code",
   "execution_count": null,
   "metadata": {},
   "outputs": [],
   "source": [
    "width = 1920\n",
    "height = 1080\n",
    "out = compAdd(FG,BG,width,height)"
   ]
  },
  {
   "cell_type": "markdown",
   "metadata": {},
   "source": [
    "And then lets display the result"
   ]
  },
  {
   "cell_type": "code",
   "execution_count": null,
   "metadata": {},
   "outputs": [],
   "source": [
    "%matplotlib inline\n",
    "imshow(np.asarray(out))"
   ]
  },
  {
   "cell_type": "markdown",
   "metadata": {},
   "source": [
    "***\n",
    "### Multiply\n",
    "\n",
    "Multiply is also relatively simple. You take corresponding pixel values and multiply them together. Since you're multiplying values between 0 and 1, you can expect the result to be less than before, i.e. darker. Multiplication is also necessary for image matting. If we multiply parts of an image with a black matte with value 0, the result will be 0. If we multiply it with 1, then it will keep whatever value it used to have."
   ]
  },
  {
   "cell_type": "markdown",
   "metadata": {},
   "source": [
    "First we open two images:"
   ]
  },
  {
   "cell_type": "code",
   "execution_count": null,
   "metadata": {},
   "outputs": [],
   "source": [
    "BG = Image.open('SEEKER.png')\n",
    "FG = Image.open('LostCity.png')"
   ]
  },
  {
   "cell_type": "markdown",
   "metadata": {},
   "source": [
    "Then we define the Multiply operation as a function"
   ]
  },
  {
   "cell_type": "code",
   "execution_count": null,
   "metadata": {},
   "outputs": [],
   "source": [
    "def compMult(front,back,x,y):\n",
    "    out = Image.new('RGB', (x, y))\n",
    "    for xPos in range(x):\n",
    "        for yPos in range(y):\n",
    "            fPxlr, fPxlg, fPxlb = front.getpixel((xPos,yPos))\n",
    "            bPxlr, bPxlg, bPxlb = back.getpixel((xPos,yPos))\n",
    "            rOutF = (float(fPxlr)/256) * (float(bPxlr)/256)\n",
    "            gOutF = (float(fPxlg)/256) * (float(bPxlg)/256)\n",
    "            bOutF = (float(fPxlb)/256) * (float(bPxlb)/256)\n",
    "            rOutI = int(rOutF*256)\n",
    "            gOutI = int(gOutF*256)\n",
    "            bOutI = int(bOutF*256)\n",
    "            out.putpixel((xPos, yPos), (rOutI, gOutI, bOutI))\n",
    "    return out"
   ]
  },
  {
   "cell_type": "markdown",
   "metadata": {},
   "source": [
    "Then we apply that function to every pixel in the image."
   ]
  },
  {
   "cell_type": "code",
   "execution_count": null,
   "metadata": {},
   "outputs": [],
   "source": [
    "width = 1920\n",
    "height = 1080\n",
    "out = compMult(FG,BG,width,height)"
   ]
  },
  {
   "cell_type": "markdown",
   "metadata": {},
   "source": [
    "And then lets display the result"
   ]
  },
  {
   "cell_type": "code",
   "execution_count": null,
   "metadata": {},
   "outputs": [],
   "source": [
    "%matplotlib inline\n",
    "imshow(np.asarray(out))"
   ]
  },
  {
   "cell_type": "markdown",
   "metadata": {},
   "source": [
    "***\n",
    "### Over\n",
    "\n",
    "This is the [Porter and Duff](http://graphics.pixar.com/library/Compositing/paper.pdf) (1984) implementation of the `over` function. It uses a matte to remove unwanted elements from the FG image via a multiplication, then an inverted matte to remove unwanted elements from the BG image via another multiplication and then an `add` to combine the two results."
   ]
  },
  {
   "cell_type": "markdown",
   "metadata": {},
   "source": [
    "First we open two images and a matte:"
   ]
  },
  {
   "cell_type": "code",
   "execution_count": null,
   "metadata": {},
   "outputs": [],
   "source": [
    "BG = Image.open('provided_images/seekerBG.png')\n",
    "FG = Image.open('provided_images/seekerRobot.png')\n",
    "matte_image = Image.open('provided_images/seekerMatte.png')"
   ]
  },
  {
   "cell_type": "markdown",
   "metadata": {},
   "source": [
    "Then we define the Over operation as a function that calls the other functions we created earlier."
   ]
  },
  {
   "cell_type": "code",
   "execution_count": null,
   "metadata": {},
   "outputs": [],
   "source": [
    "def compOver(front,back,matte,x,y):\n",
    "    out = Image.new('RGB', (x, y))\n",
    "    premult_FG = compMult(front, matte, x, y)\n",
    "    inverted_matte = imgInvert(matte,x,y)\n",
    "    premult_BG = compMult(back, inverted_matte, x, y)\n",
    "    out = compAdd(premult_FG, premult_BG, x, y)\n",
    "    return out"
   ]
  },
  {
   "cell_type": "markdown",
   "metadata": {},
   "source": [
    "Then we apply that function."
   ]
  },
  {
   "cell_type": "code",
   "execution_count": null,
   "metadata": {},
   "outputs": [],
   "source": [
    "width = 1920\n",
    "height = 1080\n",
    "out = compOver(FG,BG,matte_image,width,height)"
   ]
  },
  {
   "cell_type": "markdown",
   "metadata": {},
   "source": [
    "And then lets display the result"
   ]
  },
  {
   "cell_type": "code",
   "execution_count": null,
   "metadata": {},
   "outputs": [],
   "source": [
    "%matplotlib inline\n",
    "imshow(np.asarray(out))"
   ]
  },
  {
   "cell_type": "markdown",
   "metadata": {},
   "source": [
    "DEBUG:"
   ]
  },
  {
   "cell_type": "code",
   "execution_count": null,
   "metadata": {},
   "outputs": [],
   "source": [
    "BG = Image.open('provided_images/seekerBG.png')\n",
    "FG = Image.open('provided_images/seekerRobot.png')\n",
    "matte_image = Image.open('provided_images/seekerMatte.png')\n",
    "out = Image.new('RGB', (x, y))\n",
    "\n",
    "x = 1920\n",
    "y = 1080\n",
    "\n",
    "premult_FG = compMult(FG, matte_image, x, y)\n",
    "inverted_matte = imgInvert(matte_image,x,y)\n",
    "premult_BG = compMult(BG, inverted_matte, x, y)\n",
    "out = compAdd(premult_FG, premult_BG, x, y)"
   ]
  }
 ],
 "metadata": {
  "kernelspec": {
   "display_name": "Python 3",
   "language": "python",
   "name": "python3"
  },
  "language_info": {
   "codemirror_mode": {
    "name": "ipython",
    "version": 3
   },
   "file_extension": ".py",
   "mimetype": "text/x-python",
   "name": "python",
   "nbconvert_exporter": "python",
   "pygments_lexer": "ipython3",
   "version": "3.8.5"
  }
 },
 "nbformat": 4,
 "nbformat_minor": 4
}
